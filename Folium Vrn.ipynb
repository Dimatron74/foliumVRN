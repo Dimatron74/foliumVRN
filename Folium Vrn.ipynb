{
 "cells": [
  {
   "cell_type": "code",
   "execution_count": 1,
   "metadata": {
    "colab": {
     "base_uri": "https://localhost:8080/"
    },
    "executionInfo": {
     "elapsed": 35,
     "status": "ok",
     "timestamp": 1738920340632,
     "user": {
      "displayName": "Dimatron",
      "userId": "17867600572042528780"
     },
     "user_tz": -180
    },
    "id": "hRirB61CTzcI",
    "outputId": "f863fd14-1eca-4f80-cd56-7bde126d1271"
   },
   "outputs": [
    {
     "ename": "FileNotFoundError",
     "evalue": "[Errno 2] No such file or directory: '/content/drive/MyDrive/Colab/voronezh_data_2020.csv'",
     "output_type": "error",
     "traceback": [
      "\u001b[1;31m---------------------------------------------------------------------------\u001b[0m",
      "\u001b[1;31mFileNotFoundError\u001b[0m                         Traceback (most recent call last)",
      "Cell \u001b[1;32mIn[1], line 11\u001b[0m\n\u001b[0;32m      8\u001b[0m region_center_incsv \u001b[38;5;241m=\u001b[39m [\u001b[38;5;241m51.67\u001b[39m, \u001b[38;5;241m39.18\u001b[39m] \u001b[38;5;66;03m# Указать центр области\u001b[39;00m\n\u001b[0;32m     10\u001b[0m \u001b[38;5;66;03m# Загрузка данных о ТЕКУЩЕМ населении из CSV с поддержкой кириллицы\u001b[39;00m\n\u001b[1;32m---> 11\u001b[0m data_2020 \u001b[38;5;241m=\u001b[39m \u001b[43mpd\u001b[49m\u001b[38;5;241;43m.\u001b[39;49m\u001b[43mread_csv\u001b[49m\u001b[43m(\u001b[49m\u001b[38;5;124;43m'\u001b[39;49m\u001b[38;5;124;43m/content/drive/MyDrive/Colab/voronezh_data_2020.csv\u001b[39;49m\u001b[38;5;124;43m'\u001b[39;49m\u001b[43m,\u001b[49m\u001b[43m \u001b[49m\u001b[43mskiprows\u001b[49m\u001b[38;5;241;43m=\u001b[39;49m\u001b[38;5;241;43m5\u001b[39;49m\u001b[43m,\u001b[49m\u001b[43m \u001b[49m\u001b[43mheader\u001b[49m\u001b[38;5;241;43m=\u001b[39;49m\u001b[38;5;28;43;01mNone\u001b[39;49;00m\u001b[43m,\u001b[49m\u001b[43m \u001b[49m\u001b[43msep\u001b[49m\u001b[38;5;241;43m=\u001b[39;49m\u001b[38;5;124;43m'\u001b[39;49m\u001b[38;5;124;43m;\u001b[39;49m\u001b[38;5;124;43m'\u001b[39;49m\u001b[43m,\u001b[49m\u001b[43m \u001b[49m\u001b[43mencoding\u001b[49m\u001b[38;5;241;43m=\u001b[39;49m\u001b[38;5;124;43m'\u001b[39;49m\u001b[38;5;124;43mwindows-1251\u001b[39;49m\u001b[38;5;124;43m'\u001b[39;49m\u001b[43m)\u001b[49m  \u001b[38;5;66;03m# или encoding='cp1251'\u001b[39;00m\n\u001b[0;32m     12\u001b[0m data_2020\u001b[38;5;241m.\u001b[39mcolumns \u001b[38;5;241m=\u001b[39m [\u001b[38;5;124m'\u001b[39m\u001b[38;5;124mregion\u001b[39m\u001b[38;5;124m'\u001b[39m, \u001b[38;5;124m'\u001b[39m\u001b[38;5;124mtotal_population\u001b[39m\u001b[38;5;124m'\u001b[39m, \u001b[38;5;124m'\u001b[39m\u001b[38;5;124mmale_population\u001b[39m\u001b[38;5;124m'\u001b[39m, \u001b[38;5;124m'\u001b[39m\u001b[38;5;124mfemale_population\u001b[39m\u001b[38;5;124m'\u001b[39m, \u001b[38;5;124m'\u001b[39m\u001b[38;5;124mmale_percent\u001b[39m\u001b[38;5;124m'\u001b[39m, \u001b[38;5;124m'\u001b[39m\u001b[38;5;124mfemale_percent\u001b[39m\u001b[38;5;124m'\u001b[39m]\n\u001b[0;32m     13\u001b[0m data_2020 \u001b[38;5;241m=\u001b[39m data_2020\u001b[38;5;241m.\u001b[39mdropna(subset\u001b[38;5;241m=\u001b[39m[\u001b[38;5;124m'\u001b[39m\u001b[38;5;124mregion\u001b[39m\u001b[38;5;124m'\u001b[39m])  \u001b[38;5;66;03m# Удаляем пустые строки\u001b[39;00m\n",
      "File \u001b[1;32me:\\Python\\foliumVRN\\venv\\Lib\\site-packages\\pandas\\io\\parsers\\readers.py:1026\u001b[0m, in \u001b[0;36mread_csv\u001b[1;34m(filepath_or_buffer, sep, delimiter, header, names, index_col, usecols, dtype, engine, converters, true_values, false_values, skipinitialspace, skiprows, skipfooter, nrows, na_values, keep_default_na, na_filter, verbose, skip_blank_lines, parse_dates, infer_datetime_format, keep_date_col, date_parser, date_format, dayfirst, cache_dates, iterator, chunksize, compression, thousands, decimal, lineterminator, quotechar, quoting, doublequote, escapechar, comment, encoding, encoding_errors, dialect, on_bad_lines, delim_whitespace, low_memory, memory_map, float_precision, storage_options, dtype_backend)\u001b[0m\n\u001b[0;32m   1013\u001b[0m kwds_defaults \u001b[38;5;241m=\u001b[39m _refine_defaults_read(\n\u001b[0;32m   1014\u001b[0m     dialect,\n\u001b[0;32m   1015\u001b[0m     delimiter,\n\u001b[1;32m   (...)\u001b[0m\n\u001b[0;32m   1022\u001b[0m     dtype_backend\u001b[38;5;241m=\u001b[39mdtype_backend,\n\u001b[0;32m   1023\u001b[0m )\n\u001b[0;32m   1024\u001b[0m kwds\u001b[38;5;241m.\u001b[39mupdate(kwds_defaults)\n\u001b[1;32m-> 1026\u001b[0m \u001b[38;5;28;01mreturn\u001b[39;00m \u001b[43m_read\u001b[49m\u001b[43m(\u001b[49m\u001b[43mfilepath_or_buffer\u001b[49m\u001b[43m,\u001b[49m\u001b[43m \u001b[49m\u001b[43mkwds\u001b[49m\u001b[43m)\u001b[49m\n",
      "File \u001b[1;32me:\\Python\\foliumVRN\\venv\\Lib\\site-packages\\pandas\\io\\parsers\\readers.py:620\u001b[0m, in \u001b[0;36m_read\u001b[1;34m(filepath_or_buffer, kwds)\u001b[0m\n\u001b[0;32m    617\u001b[0m _validate_names(kwds\u001b[38;5;241m.\u001b[39mget(\u001b[38;5;124m\"\u001b[39m\u001b[38;5;124mnames\u001b[39m\u001b[38;5;124m\"\u001b[39m, \u001b[38;5;28;01mNone\u001b[39;00m))\n\u001b[0;32m    619\u001b[0m \u001b[38;5;66;03m# Create the parser.\u001b[39;00m\n\u001b[1;32m--> 620\u001b[0m parser \u001b[38;5;241m=\u001b[39m \u001b[43mTextFileReader\u001b[49m\u001b[43m(\u001b[49m\u001b[43mfilepath_or_buffer\u001b[49m\u001b[43m,\u001b[49m\u001b[43m \u001b[49m\u001b[38;5;241;43m*\u001b[39;49m\u001b[38;5;241;43m*\u001b[39;49m\u001b[43mkwds\u001b[49m\u001b[43m)\u001b[49m\n\u001b[0;32m    622\u001b[0m \u001b[38;5;28;01mif\u001b[39;00m chunksize \u001b[38;5;129;01mor\u001b[39;00m iterator:\n\u001b[0;32m    623\u001b[0m     \u001b[38;5;28;01mreturn\u001b[39;00m parser\n",
      "File \u001b[1;32me:\\Python\\foliumVRN\\venv\\Lib\\site-packages\\pandas\\io\\parsers\\readers.py:1620\u001b[0m, in \u001b[0;36mTextFileReader.__init__\u001b[1;34m(self, f, engine, **kwds)\u001b[0m\n\u001b[0;32m   1617\u001b[0m     \u001b[38;5;28mself\u001b[39m\u001b[38;5;241m.\u001b[39moptions[\u001b[38;5;124m\"\u001b[39m\u001b[38;5;124mhas_index_names\u001b[39m\u001b[38;5;124m\"\u001b[39m] \u001b[38;5;241m=\u001b[39m kwds[\u001b[38;5;124m\"\u001b[39m\u001b[38;5;124mhas_index_names\u001b[39m\u001b[38;5;124m\"\u001b[39m]\n\u001b[0;32m   1619\u001b[0m \u001b[38;5;28mself\u001b[39m\u001b[38;5;241m.\u001b[39mhandles: IOHandles \u001b[38;5;241m|\u001b[39m \u001b[38;5;28;01mNone\u001b[39;00m \u001b[38;5;241m=\u001b[39m \u001b[38;5;28;01mNone\u001b[39;00m\n\u001b[1;32m-> 1620\u001b[0m \u001b[38;5;28mself\u001b[39m\u001b[38;5;241m.\u001b[39m_engine \u001b[38;5;241m=\u001b[39m \u001b[38;5;28;43mself\u001b[39;49m\u001b[38;5;241;43m.\u001b[39;49m\u001b[43m_make_engine\u001b[49m\u001b[43m(\u001b[49m\u001b[43mf\u001b[49m\u001b[43m,\u001b[49m\u001b[43m \u001b[49m\u001b[38;5;28;43mself\u001b[39;49m\u001b[38;5;241;43m.\u001b[39;49m\u001b[43mengine\u001b[49m\u001b[43m)\u001b[49m\n",
      "File \u001b[1;32me:\\Python\\foliumVRN\\venv\\Lib\\site-packages\\pandas\\io\\parsers\\readers.py:1880\u001b[0m, in \u001b[0;36mTextFileReader._make_engine\u001b[1;34m(self, f, engine)\u001b[0m\n\u001b[0;32m   1878\u001b[0m     \u001b[38;5;28;01mif\u001b[39;00m \u001b[38;5;124m\"\u001b[39m\u001b[38;5;124mb\u001b[39m\u001b[38;5;124m\"\u001b[39m \u001b[38;5;129;01mnot\u001b[39;00m \u001b[38;5;129;01min\u001b[39;00m mode:\n\u001b[0;32m   1879\u001b[0m         mode \u001b[38;5;241m+\u001b[39m\u001b[38;5;241m=\u001b[39m \u001b[38;5;124m\"\u001b[39m\u001b[38;5;124mb\u001b[39m\u001b[38;5;124m\"\u001b[39m\n\u001b[1;32m-> 1880\u001b[0m \u001b[38;5;28mself\u001b[39m\u001b[38;5;241m.\u001b[39mhandles \u001b[38;5;241m=\u001b[39m \u001b[43mget_handle\u001b[49m\u001b[43m(\u001b[49m\n\u001b[0;32m   1881\u001b[0m \u001b[43m    \u001b[49m\u001b[43mf\u001b[49m\u001b[43m,\u001b[49m\n\u001b[0;32m   1882\u001b[0m \u001b[43m    \u001b[49m\u001b[43mmode\u001b[49m\u001b[43m,\u001b[49m\n\u001b[0;32m   1883\u001b[0m \u001b[43m    \u001b[49m\u001b[43mencoding\u001b[49m\u001b[38;5;241;43m=\u001b[39;49m\u001b[38;5;28;43mself\u001b[39;49m\u001b[38;5;241;43m.\u001b[39;49m\u001b[43moptions\u001b[49m\u001b[38;5;241;43m.\u001b[39;49m\u001b[43mget\u001b[49m\u001b[43m(\u001b[49m\u001b[38;5;124;43m\"\u001b[39;49m\u001b[38;5;124;43mencoding\u001b[39;49m\u001b[38;5;124;43m\"\u001b[39;49m\u001b[43m,\u001b[49m\u001b[43m \u001b[49m\u001b[38;5;28;43;01mNone\u001b[39;49;00m\u001b[43m)\u001b[49m\u001b[43m,\u001b[49m\n\u001b[0;32m   1884\u001b[0m \u001b[43m    \u001b[49m\u001b[43mcompression\u001b[49m\u001b[38;5;241;43m=\u001b[39;49m\u001b[38;5;28;43mself\u001b[39;49m\u001b[38;5;241;43m.\u001b[39;49m\u001b[43moptions\u001b[49m\u001b[38;5;241;43m.\u001b[39;49m\u001b[43mget\u001b[49m\u001b[43m(\u001b[49m\u001b[38;5;124;43m\"\u001b[39;49m\u001b[38;5;124;43mcompression\u001b[39;49m\u001b[38;5;124;43m\"\u001b[39;49m\u001b[43m,\u001b[49m\u001b[43m \u001b[49m\u001b[38;5;28;43;01mNone\u001b[39;49;00m\u001b[43m)\u001b[49m\u001b[43m,\u001b[49m\n\u001b[0;32m   1885\u001b[0m \u001b[43m    \u001b[49m\u001b[43mmemory_map\u001b[49m\u001b[38;5;241;43m=\u001b[39;49m\u001b[38;5;28;43mself\u001b[39;49m\u001b[38;5;241;43m.\u001b[39;49m\u001b[43moptions\u001b[49m\u001b[38;5;241;43m.\u001b[39;49m\u001b[43mget\u001b[49m\u001b[43m(\u001b[49m\u001b[38;5;124;43m\"\u001b[39;49m\u001b[38;5;124;43mmemory_map\u001b[39;49m\u001b[38;5;124;43m\"\u001b[39;49m\u001b[43m,\u001b[49m\u001b[43m \u001b[49m\u001b[38;5;28;43;01mFalse\u001b[39;49;00m\u001b[43m)\u001b[49m\u001b[43m,\u001b[49m\n\u001b[0;32m   1886\u001b[0m \u001b[43m    \u001b[49m\u001b[43mis_text\u001b[49m\u001b[38;5;241;43m=\u001b[39;49m\u001b[43mis_text\u001b[49m\u001b[43m,\u001b[49m\n\u001b[0;32m   1887\u001b[0m \u001b[43m    \u001b[49m\u001b[43merrors\u001b[49m\u001b[38;5;241;43m=\u001b[39;49m\u001b[38;5;28;43mself\u001b[39;49m\u001b[38;5;241;43m.\u001b[39;49m\u001b[43moptions\u001b[49m\u001b[38;5;241;43m.\u001b[39;49m\u001b[43mget\u001b[49m\u001b[43m(\u001b[49m\u001b[38;5;124;43m\"\u001b[39;49m\u001b[38;5;124;43mencoding_errors\u001b[39;49m\u001b[38;5;124;43m\"\u001b[39;49m\u001b[43m,\u001b[49m\u001b[43m \u001b[49m\u001b[38;5;124;43m\"\u001b[39;49m\u001b[38;5;124;43mstrict\u001b[39;49m\u001b[38;5;124;43m\"\u001b[39;49m\u001b[43m)\u001b[49m\u001b[43m,\u001b[49m\n\u001b[0;32m   1888\u001b[0m \u001b[43m    \u001b[49m\u001b[43mstorage_options\u001b[49m\u001b[38;5;241;43m=\u001b[39;49m\u001b[38;5;28;43mself\u001b[39;49m\u001b[38;5;241;43m.\u001b[39;49m\u001b[43moptions\u001b[49m\u001b[38;5;241;43m.\u001b[39;49m\u001b[43mget\u001b[49m\u001b[43m(\u001b[49m\u001b[38;5;124;43m\"\u001b[39;49m\u001b[38;5;124;43mstorage_options\u001b[39;49m\u001b[38;5;124;43m\"\u001b[39;49m\u001b[43m,\u001b[49m\u001b[43m \u001b[49m\u001b[38;5;28;43;01mNone\u001b[39;49;00m\u001b[43m)\u001b[49m\u001b[43m,\u001b[49m\n\u001b[0;32m   1889\u001b[0m \u001b[43m\u001b[49m\u001b[43m)\u001b[49m\n\u001b[0;32m   1890\u001b[0m \u001b[38;5;28;01massert\u001b[39;00m \u001b[38;5;28mself\u001b[39m\u001b[38;5;241m.\u001b[39mhandles \u001b[38;5;129;01mis\u001b[39;00m \u001b[38;5;129;01mnot\u001b[39;00m \u001b[38;5;28;01mNone\u001b[39;00m\n\u001b[0;32m   1891\u001b[0m f \u001b[38;5;241m=\u001b[39m \u001b[38;5;28mself\u001b[39m\u001b[38;5;241m.\u001b[39mhandles\u001b[38;5;241m.\u001b[39mhandle\n",
      "File \u001b[1;32me:\\Python\\foliumVRN\\venv\\Lib\\site-packages\\pandas\\io\\common.py:873\u001b[0m, in \u001b[0;36mget_handle\u001b[1;34m(path_or_buf, mode, encoding, compression, memory_map, is_text, errors, storage_options)\u001b[0m\n\u001b[0;32m    868\u001b[0m \u001b[38;5;28;01melif\u001b[39;00m \u001b[38;5;28misinstance\u001b[39m(handle, \u001b[38;5;28mstr\u001b[39m):\n\u001b[0;32m    869\u001b[0m     \u001b[38;5;66;03m# Check whether the filename is to be opened in binary mode.\u001b[39;00m\n\u001b[0;32m    870\u001b[0m     \u001b[38;5;66;03m# Binary mode does not support 'encoding' and 'newline'.\u001b[39;00m\n\u001b[0;32m    871\u001b[0m     \u001b[38;5;28;01mif\u001b[39;00m ioargs\u001b[38;5;241m.\u001b[39mencoding \u001b[38;5;129;01mand\u001b[39;00m \u001b[38;5;124m\"\u001b[39m\u001b[38;5;124mb\u001b[39m\u001b[38;5;124m\"\u001b[39m \u001b[38;5;129;01mnot\u001b[39;00m \u001b[38;5;129;01min\u001b[39;00m ioargs\u001b[38;5;241m.\u001b[39mmode:\n\u001b[0;32m    872\u001b[0m         \u001b[38;5;66;03m# Encoding\u001b[39;00m\n\u001b[1;32m--> 873\u001b[0m         handle \u001b[38;5;241m=\u001b[39m \u001b[38;5;28;43mopen\u001b[39;49m\u001b[43m(\u001b[49m\n\u001b[0;32m    874\u001b[0m \u001b[43m            \u001b[49m\u001b[43mhandle\u001b[49m\u001b[43m,\u001b[49m\n\u001b[0;32m    875\u001b[0m \u001b[43m            \u001b[49m\u001b[43mioargs\u001b[49m\u001b[38;5;241;43m.\u001b[39;49m\u001b[43mmode\u001b[49m\u001b[43m,\u001b[49m\n\u001b[0;32m    876\u001b[0m \u001b[43m            \u001b[49m\u001b[43mencoding\u001b[49m\u001b[38;5;241;43m=\u001b[39;49m\u001b[43mioargs\u001b[49m\u001b[38;5;241;43m.\u001b[39;49m\u001b[43mencoding\u001b[49m\u001b[43m,\u001b[49m\n\u001b[0;32m    877\u001b[0m \u001b[43m            \u001b[49m\u001b[43merrors\u001b[49m\u001b[38;5;241;43m=\u001b[39;49m\u001b[43merrors\u001b[49m\u001b[43m,\u001b[49m\n\u001b[0;32m    878\u001b[0m \u001b[43m            \u001b[49m\u001b[43mnewline\u001b[49m\u001b[38;5;241;43m=\u001b[39;49m\u001b[38;5;124;43m\"\u001b[39;49m\u001b[38;5;124;43m\"\u001b[39;49m\u001b[43m,\u001b[49m\n\u001b[0;32m    879\u001b[0m \u001b[43m        \u001b[49m\u001b[43m)\u001b[49m\n\u001b[0;32m    880\u001b[0m     \u001b[38;5;28;01melse\u001b[39;00m:\n\u001b[0;32m    881\u001b[0m         \u001b[38;5;66;03m# Binary mode\u001b[39;00m\n\u001b[0;32m    882\u001b[0m         handle \u001b[38;5;241m=\u001b[39m \u001b[38;5;28mopen\u001b[39m(handle, ioargs\u001b[38;5;241m.\u001b[39mmode)\n",
      "\u001b[1;31mFileNotFoundError\u001b[0m: [Errno 2] No such file or directory: '/content/drive/MyDrive/Colab/voronezh_data_2020.csv'"
     ]
    }
   ],
   "source": [
    "import folium\n",
    "import pandas as pd\n",
    "import unicodedata\n",
    "import json\n",
    "\n",
    "# Статические переменные\n",
    "region_name_incsv = 'воронежская область' # Указать область\n",
    "region_center_incsv = [51.67, 39.18] # Указать центр области\n",
    "\n",
    "# Загрузка данных о ТЕКУЩЕМ населении из CSV с поддержкой кириллицы\n",
    "data_2020 = pd.read_csv('/content/drive/MyDrive/Colab/voronezh_data_2020.csv', skiprows=5, header=None, sep=';', encoding='windows-1251')  # или encoding='cp1251'\n",
    "data_2020.columns = ['region', 'total_population', 'male_population', 'female_population', 'male_percent', 'female_percent']\n",
    "data_2020 = data_2020.dropna(subset=['region'])  # Удаляем пустые строки\n",
    "data_2020['region'] = data_2020['region'].str.strip()  # Удаляем лишние пробелы\n",
    "data_2020['region'] = data_2020['region'].str.lower()  # Приводим все значения к нижнему регистру\n",
    "\n",
    "# Фильтруем данные для Воронежской области и её районов\n",
    "def filter_data(data):\n",
    "  voronezh_data = []\n",
    "  collecting_voronezh = False\n",
    "\n",
    "  for _, row in data.iterrows():\n",
    "      if row['region'] == region_name_incsv.lower():  # Начинаем собирать данные при нахождении \"воронежская область\"\n",
    "          collecting_voronezh = True\n",
    "          # # Добавляем данные самой области\n",
    "          # voronezh_data.append({\n",
    "          #     'region': row['region'],\n",
    "          #     'total_population': row['total_population'],\n",
    "          #     'male_population': row['male_population'],\n",
    "          #     'female_population': row['female_population']\n",
    "          # })\n",
    "          continue\n",
    "\n",
    "      if collecting_voronezh:\n",
    "          if 'район' in row['region'] or 'городской округ' in row['region'] or 'г.' in row['region']:  # Берём только районы и городские округа\n",
    "              voronezh_data.append({\n",
    "                  'region': row['region'],\n",
    "                  'total_population': row['total_population'],\n",
    "                  'male_population': row['male_population'],\n",
    "                  'female_population': row['female_population']\n",
    "              })\n",
    "          elif row['region'].endswith('область') or row['region'].endswith('край'):  # Останавливаемся при следующей области\n",
    "              break\n",
    "\n",
    "  return voronezh_data\n",
    "\n",
    "# Преобразуем список словарей в DataFrame\n",
    "voronezh_data_2020 = pd.DataFrame(filter_data(data_2020)).set_index('region')\n",
    "voronezh_data_2020['total_population'] = voronezh_data_2020['total_population'].astype(str).str.replace(' ', '').astype(float)\n",
    "print(voronezh_data_2020.index.tolist(), '\\n', len(voronezh_data_2020.index.tolist()))"
   ]
  },
  {
   "cell_type": "code",
   "execution_count": null,
   "metadata": {
    "colab": {
     "base_uri": "https://localhost:8080/"
    },
    "executionInfo": {
     "elapsed": 175,
     "status": "ok",
     "timestamp": 1738920340805,
     "user": {
      "displayName": "Dimatron",
      "userId": "17867600572042528780"
     },
     "user_tz": -180
    },
    "id": "tU5rrJwLCH63",
    "outputId": "8484b5c7-dee9-40c7-ec98-e75f562a37b3"
   },
   "outputs": [],
   "source": [
    "# Загрузка данных за 2010 год\n",
    "data_2010 = pd.read_csv('/content/drive/MyDrive/Colab/voronezh_data_2010.csv', skiprows=5, header=None, sep=';', encoding='windows-1251')\n",
    "data_2010.columns = ['region', 'total_population', 'male_population', 'female_population', 'male_percent', 'female_percent', '']\n",
    "data_2010['region'] = data_2010['region'].str.strip().str.lower()\n",
    "voronezh_data_2010 = pd.DataFrame(filter_data(data_2010)).set_index('region')\n",
    "print(voronezh_data_2010.index.tolist(), '\\n', len(voronezh_data_2010.index.tolist()))\n",
    "\n",
    "# Загрузка данных за 2002 год\n",
    "data_2002 = pd.read_csv('/content/drive/MyDrive/Colab/voronezh_data_2002.csv', skiprows=5, header=None, sep=';', encoding='windows-1251')\n",
    "data_2002.columns = ['id', 'number', 'region', 'total_population', 'male_population', 'female_population', 'male_percent', 'female_percent']\n",
    "data_2002['region'] = data_2002['region'].str.strip().str.lower()\n",
    "voronezh_data_2002 = pd.DataFrame(filter_data(data_2002)).set_index('region')\n",
    "print(voronezh_data_2002.index.tolist(), '\\n', len(voronezh_data_2002.index.tolist()))\n",
    "\n",
    "regions_2020 = voronezh_data_2020.index.tolist()\n",
    "regions_2010 = voronezh_data_2010.index.tolist()\n",
    "regions_2002 = voronezh_data_2002.index.tolist()"
   ]
  },
  {
   "cell_type": "code",
   "execution_count": null,
   "metadata": {
    "colab": {
     "base_uri": "https://localhost:8080/"
    },
    "executionInfo": {
     "elapsed": 33,
     "status": "ok",
     "timestamp": 1738920340837,
     "user": {
      "displayName": "Dimatron",
      "userId": "17867600572042528780"
     },
     "user_tz": -180
    },
    "id": "t2cZZrHTXI0f",
    "outputId": "9af99cf5-869c-4536-a46a-062b5d173e46"
   },
   "outputs": [],
   "source": [
    "# Загрузка GeoJSON файла с границами районов\n",
    "with open('/content/drive/MyDrive/Colab/Voronezh_region.geojson', 'r', encoding='utf-8') as f:\n",
    "    geojson_data = json.load(f)\n",
    "\n",
    "geojson_voronezh = {\n",
    "    \"type\": \"FeatureCollection\",\n",
    "    \"features\": [feature for feature in geojson_data['features']]\n",
    "}\n",
    "\n",
    "# Создание карты\n",
    "map_center = region_center_incsv  # Координаты центра области\n",
    "m = folium.Map(location=map_center, zoom_start=8)\n",
    "\n",
    "# Нормализация названий районов в DataFrame\n",
    "def normalize_region_name(name):\n",
    "    name = name.lower() \\\n",
    "        .replace('городской округ', '') \\\n",
    "        .replace('муниципальный район', '') \\\n",
    "        .replace('сельское население', '') \\\n",
    "        .replace('городское население', '') \\\n",
    "        .replace('г.', '').replace('рц', '').replace('с подчиненными его администрации населенными пунктами', '') \\\n",
    "        .replace('-', '').replace('ё', 'е').strip()\n",
    "    # Убираем пробелы внутри названий для соответствия формату GeoJSON\n",
    "    return ''.join(e for e in name if e.isalnum() or e.isspace()).strip()\n",
    "\n",
    "# Применяем функцию нормализации к индексам DataFrame\n",
    "voronezh_data_2020.index = [normalize_region_name(region) for region in regions_2020]\n",
    "voronezh_data_2010.index = [normalize_region_name(region) for region in regions_2010]\n",
    "voronezh_data_2002.index = [normalize_region_name(region) for region in regions_2002]\n",
    "print(voronezh_data_2020)"
   ]
  },
  {
   "cell_type": "code",
   "execution_count": null,
   "metadata": {
    "colab": {
     "base_uri": "https://localhost:8080/"
    },
    "executionInfo": {
     "elapsed": 39,
     "status": "ok",
     "timestamp": 1738920340878,
     "user": {
      "displayName": "Dimatron",
      "userId": "17867600572042528780"
     },
     "user_tz": -180
    },
    "id": "WLO-7DOLGeqI",
    "outputId": "c33af9cf-c356-4b4f-bdb8-bd4ce2ee88f3"
   },
   "outputs": [],
   "source": [
    "# Функционал для создания комбинированной таблицы\n",
    "normalized_regions_2020 = [normalize_region_name(region) for region in regions_2020]\n",
    "normalized_regions_2010 = [normalize_region_name(region) for region in regions_2010]\n",
    "normalized_regions_2002 = [normalize_region_name(region) for region in regions_2002]\n",
    "\n",
    "def find_matching_region(target, candidates):\n",
    "    max_similarity = 0\n",
    "    best_match = None\n",
    "    for candidate in candidates:\n",
    "        similarity = len(set(target) & set(candidate)) / len(set(target) | set(candidate))\n",
    "        if similarity > max_similarity:\n",
    "            max_similarity = similarity\n",
    "            best_match = candidate\n",
    "    return best_match\n",
    "\n",
    "combined_data = []\n",
    "\n",
    "for i, region_2020 in enumerate(normalized_regions_2020):\n",
    "    # Находим соответствующие регионы в 2010 и 2002 годах\n",
    "    match_2010 = find_matching_region(region_2020, normalized_regions_2010)\n",
    "    match_2002 = find_matching_region(region_2020, normalized_regions_2002)\n",
    "\n",
    "    # Находим индексы соответствующих регионов\n",
    "    index_2010 = normalized_regions_2010.index(match_2010) if match_2010 else None\n",
    "    index_2002 = normalized_regions_2002.index(match_2002) if match_2002 else None\n",
    "\n",
    "    # Добавляем данные в словарь\n",
    "    combined_data.append({\n",
    "    'region': str(normalized_regions_2020[i]),  # Приводим название региона к строке\n",
    "    'total_population_2020': float(voronezh_data_2020.iloc[i]['total_population']) if 'total_population' in voronezh_data_2020.columns else None,\n",
    "    'total_population_2010': float(voronezh_data_2010.iloc[index_2010]['total_population']) if voronezh_data_2010 is not None and index_2010 is not None else None,\n",
    "    'total_population_2002': float(voronezh_data_2002.iloc[index_2002]['total_population']) if voronezh_data_2002 is not None and index_2002 is not None else None\n",
    "    })\n",
    "\n",
    "# Преобразуем список словарей в DataFrame\n",
    "combined_data_df = pd.DataFrame(combined_data)\n",
    "print(combined_data_df)"
   ]
  },
  {
   "cell_type": "code",
   "execution_count": null,
   "metadata": {
    "executionInfo": {
     "elapsed": 4,
     "status": "ok",
     "timestamp": 1738920340879,
     "user": {
      "displayName": "Dimatron",
      "userId": "17867600572042528780"
     },
     "user_tz": -180
    },
    "id": "wkg8-sf7OAo-"
   },
   "outputs": [],
   "source": [
    "# Создание диаграммы для каждого региона\n",
    "import matplotlib.pyplot as plt\n",
    "from io import BytesIO\n",
    "import base64\n",
    "\n",
    "def create_population_chart(region_name, combined_data_df):\n",
    "    print('Создание диаграммы для:', region_name)\n",
    "\n",
    "    # Найдите данные для указанного региона\n",
    "    region_data = combined_data_df[combined_data_df['region'] == region_name]\n",
    "    if region_data.empty:\n",
    "        return None\n",
    "\n",
    "    years = [2002, 2010, 2020]\n",
    "    populations = [\n",
    "        region_data['total_population_2002'].values[0],\n",
    "        region_data['total_population_2010'].values[0],\n",
    "        region_data['total_population_2020'].values[0]\n",
    "    ]\n",
    "\n",
    "    # Создаем график\n",
    "    plt.figure(figsize=(3, 2))\n",
    "\n",
    "    # Добавляем столбчатую диаграмму\n",
    "    bars = plt.bar(years, populations, color=['blue', 'green', 'red'], alpha=0.6, label='Численность')\n",
    "\n",
    "    # Добавляем линию, соединяющую точки\n",
    "    plt.plot(years, populations, color='black', marker='o', linewidth=2, label='Тренд')\n",
    "\n",
    "    # Добавляем значения над столбцами\n",
    "    for bar in bars:\n",
    "        yval = bar.get_height()\n",
    "        plt.text(bar.get_x() + bar.get_width() / 2, yval + 1000, int(yval), ha='center', va='bottom', fontsize=8)\n",
    "\n",
    "    # Настройка заголовков и меток\n",
    "    plt.title(f'Изменение численности населения\\n{region_name}', fontsize=10)\n",
    "    plt.xlabel('Год', fontsize=8)\n",
    "    plt.ylabel('Численность населения', fontsize=8)\n",
    "    plt.xticks(years, fontsize=8)\n",
    "    plt.yticks(fontsize=8)\n",
    "    plt.grid(axis='y', linestyle='--', alpha=0.7)\n",
    "    plt.legend(fontsize=8)\n",
    "\n",
    "    # Сохраняем график в памяти\n",
    "    buffer = BytesIO()\n",
    "    plt.savefig(buffer, format='png', bbox_inches='tight')\n",
    "    buffer.seek(0)\n",
    "    image_base64 = base64.b64encode(buffer.read()).decode('utf-8')\n",
    "    plt.close()\n",
    "\n",
    "    # Возвращаем HTML-код с изображением\n",
    "    return f'<img src=\"data:image/png;base64,{image_base64}\">'"
   ]
  },
  {
   "cell_type": "code",
   "execution_count": null,
   "metadata": {
    "executionInfo": {
     "elapsed": 3,
     "status": "ok",
     "timestamp": 1738920340880,
     "user": {
      "displayName": "Dimatron",
      "userId": "17867600572042528780"
     },
     "user_tz": -180
    },
    "id": "GT__Vzh5N4Pv"
   },
   "outputs": [],
   "source": [
    "# Основная функция стиля для folium.GeoJson\n",
    "def style_function(feature):\n",
    "    district_name = feature['properties']['district'].lower().replace(' ', '').replace('район', '').replace('ё', 'е')  # Приводим название района из GeoJSON к нижнему регистру и убираем пробелы\n",
    "    chart_html = \"\"\n",
    "    population = 0\n",
    "    # Находим наиболее похожее название в DataFrame\n",
    "    for index in voronezh_data_2020.index:\n",
    "        normalized_index = index.lower().replace(' ', '')\n",
    "\n",
    "        # Проверяем, является ли district_name частью normalized_index или наоборот\n",
    "        if district_name in normalized_index or normalized_index in district_name:\n",
    "            print(\"Отношения:\", district_name, '<>', normalized_index)\n",
    "            try:\n",
    "                population = voronezh_data_2020.loc[index, 'total_population']  # Преобразуем строку в число\n",
    "                chart_html = create_population_chart(index, combined_data_df)\n",
    "\n",
    "\n",
    "                break  # Выходим из цикла, так как совпадение найдено\n",
    "            except KeyError:\n",
    "                population = 0  # Если данных нет, устанавливаем значение 0\n",
    "\n",
    "    feature['properties']['total_population'] = population  # Добавляем поле с численностью\n",
    "    feature['properties']['chart_html'] = chart_html if chart_html else \"Данные отсутствуют\"\n",
    "\n",
    "    # Определение цвета в зависимости от численности\n",
    "    if population != 0 and population < 35000:\n",
    "        color = 'green'\n",
    "    elif population < 500000:\n",
    "        color = 'orange'\n",
    "    elif population > 500000:\n",
    "        color = 'red'\n",
    "    else:\n",
    "        color = 'grey'\n",
    "\n",
    "    return {\n",
    "        'fillColor': color,\n",
    "        'color': 'black',\n",
    "        'weight': 1,\n",
    "        'fillOpacity': 0.4\n",
    "    }"
   ]
  },
  {
   "cell_type": "code",
   "execution_count": null,
   "metadata": {
    "colab": {
     "base_uri": "https://localhost:8080/"
    },
    "executionInfo": {
     "elapsed": 38,
     "status": "ok",
     "timestamp": 1738920340920,
     "user": {
      "displayName": "Dimatron",
      "userId": "17867600572042528780"
     },
     "user_tz": -180
    },
    "id": "ztYVwkxXbo5y",
    "outputId": "6813c136-3a6f-4f46-f3af-c0509d54ad64"
   },
   "outputs": [],
   "source": [
    "# Заглушка маркер в центре Воронежа\n",
    "import branca\n",
    "\n",
    "html = \"\"\"\n",
    "    <h1>Сюда можно будет добавить статистику по области</h1>\n",
    "    \"\"\"\n",
    "\n",
    "\n",
    "folium.Marker([51.672, 39.1843], popup=html).add_to(m)"
   ]
  },
  {
   "cell_type": "code",
   "execution_count": null,
   "metadata": {
    "colab": {
     "base_uri": "https://localhost:8080/",
     "height": 1000
    },
    "executionInfo": {
     "elapsed": 18865,
     "status": "ok",
     "timestamp": 1738920359773,
     "user": {
      "displayName": "Dimatron",
      "userId": "17867600572042528780"
     },
     "user_tz": -180
    },
    "id": "PCfRNUEPFaUi",
    "outputId": "765ba873-1271-47b9-f1fb-98c945e344c0"
   },
   "outputs": [],
   "source": [
    "# Добавление слоя GeoJSON на карту\n",
    "folium.GeoJson(\n",
    "    geojson_voronezh,\n",
    "    style_function=style_function,\n",
    "    tooltip=folium.GeoJsonTooltip(\n",
    "        fields=['district', 'total_population'],  # Добавляем численность населения в подсказку\n",
    "        aliases=['Район:', 'Численность:'],\n",
    "        localize=True\n",
    "    ),\n",
    "    popup=folium.GeoJsonPopup(\n",
    "        fields=['district', 'total_population', 'chart_html'],\n",
    "        aliases=['Район:', 'Численность:', 'Динамика населения:'],\n",
    "        localize=True,\n",
    "        labels=True,\n",
    "        sticky=True,\n",
    "        max_width=500,\n",
    "        parse_html=True  # Разрешаем парсинг HTML для отображения графика\n",
    "    ),\n",
    "    highlight_function=lambda x: {'weight': 3, 'color': 'black'},  # Увеличение границы при наведении\n",
    ").add_to(m)\n",
    "\n",
    "# Сохранение карты\n",
    "m.save('vrn.html')\n",
    "# Отображение карты\n",
    "display(m)"
   ]
  }
 ],
 "metadata": {
  "colab": {
   "authorship_tag": "ABX9TyOEcN5tPe0jJYVUHnpdw9my",
   "mount_file_id": "1jVK-FBuVCl6RYpptctflC1RcMtOfBpRx",
   "provenance": []
  },
  "kernelspec": {
   "display_name": "venv",
   "language": "python",
   "name": "python3"
  },
  "language_info": {
   "codemirror_mode": {
    "name": "ipython",
    "version": 3
   },
   "file_extension": ".py",
   "mimetype": "text/x-python",
   "name": "python",
   "nbconvert_exporter": "python",
   "pygments_lexer": "ipython3",
   "version": "3.12.6"
  }
 },
 "nbformat": 4,
 "nbformat_minor": 0
}
